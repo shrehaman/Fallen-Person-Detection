{
 "cells": [
  {
   "cell_type": "code",
   "execution_count": 5,
   "metadata": {},
   "outputs": [
    {
     "name": "stdout",
     "output_type": "stream",
     "text": [
      "loading Roboflow workspace...\n",
      "loading Roboflow project...\n",
      "{'predictions': [{'x': 704.0, 'y': 453.5, 'width': 1114.0, 'height': 669.0, 'confidence': 0.4412388205528259, 'class': 'Fall-Detected', 'image_path': 'https://previews.123rf.com/images/andreypopov/andreypopov1908/andreypopov190800946/128599339-man-fallen-on-floor-having-pain-lying-on-floor-after-accident.jpg', 'prediction_type': 'ObjectDetectionModel'}], 'image': {'width': '0', 'height': '0'}}\n"
     ]
    }
   ],
   "source": [
    "from roboflow import Roboflow\n",
    "rf = Roboflow(api_key=\"8q0sSZtRNMwmBqCEAISf\")\n",
    "project = rf.workspace().project(\"fall-down-detection\")\n",
    "model = project.version(1).model\n",
    "\n",
    "# infer on a local image\n",
    "# print(model.predict(\"your_image.jpg\", confidence=40, overlap=30).json())\n",
    "\n",
    "# visualize your prediction\n",
    "# model.predict(\"your_image.jpg\", confidence=40, overlap=30).save(\"prediction.jpg\")\n",
    "\n",
    "# infer on an image hosted elsewhere\n",
    "print(model.predict(\"https://previews.123rf.com/images/andreypopov/andreypopov1908/andreypopov190800946/128599339-man-fallen-on-floor-having-pain-lying-on-floor-after-accident.jpg\", hosted=True, confidence=40, overlap=30).json())"
   ]
  },
  {
   "cell_type": "code",
   "execution_count": 4,
   "metadata": {},
   "outputs": [],
   "source": [
    "# !pip install roboflow"
   ]
  },
  {
   "cell_type": "code",
   "execution_count": null,
   "metadata": {},
   "outputs": [],
   "source": []
  }
 ],
 "metadata": {
  "kernelspec": {
   "display_name": "Python 3",
   "language": "python",
   "name": "python3"
  },
  "language_info": {
   "codemirror_mode": {
    "name": "ipython",
    "version": 3
   },
   "file_extension": ".py",
   "mimetype": "text/x-python",
   "name": "python",
   "nbconvert_exporter": "python",
   "pygments_lexer": "ipython3",
   "version": "3.8.5"
  }
 },
 "nbformat": 4,
 "nbformat_minor": 4
}
